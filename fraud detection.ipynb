{
 "cells": [
  {
   "cell_type": "code",
   "execution_count": 17,
   "metadata": {},
   "outputs": [],
   "source": [
    "import pandas as pd\n",
    "from sklearn.model_selection import StratifiedShuffleSplit\n",
    "from sklearn.linear_model import LogisticRegression\n",
    "from sklearn.metrics import classification_report\n",
    "\n",
    "\n",
    "# Read the CSV file\n",
    "df = pd.read_csv('train_transaction.csv')\n",
    "\n",
    "# Show the contents\n",
    "df.head()\n",
    "df = df.fillna(0)"
   ]
  },
  {
   "cell_type": "code",
   "execution_count": 4,
   "metadata": {},
   "outputs": [
    {
     "name": "stdout",
     "output_type": "stream",
     "text": [
      "       TransactionID        isFraud  TransactionDT  TransactionAmt  \\\n",
      "count   5.905400e+05  590540.000000   5.905400e+05   590540.000000   \n",
      "mean    3.282270e+06       0.034990   7.372311e+06      135.027176   \n",
      "std     1.704744e+05       0.183755   4.617224e+06      239.162522   \n",
      "min     2.987000e+06       0.000000   8.640000e+04        0.251000   \n",
      "25%     3.134635e+06       0.000000   3.027058e+06       43.321000   \n",
      "50%     3.282270e+06       0.000000   7.306528e+06       68.769000   \n",
      "75%     3.429904e+06       0.000000   1.124662e+07      125.000000   \n",
      "max     3.577539e+06       1.000000   1.581113e+07    31937.391000   \n",
      "\n",
      "               card1          card2          card3          card5  \\\n",
      "count  590540.000000  590540.000000  590540.000000  590540.000000   \n",
      "mean     9898.734658     357.071172     152.788941     197.841689   \n",
      "std      4901.170153     162.727883      13.791462      44.420452   \n",
      "min      1000.000000       0.000000       0.000000       0.000000   \n",
      "25%      6019.000000     204.000000     150.000000     166.000000   \n",
      "50%      9678.000000     360.000000     150.000000     226.000000   \n",
      "75%     14184.000000     512.000000     150.000000     226.000000   \n",
      "max     18396.000000     600.000000     231.000000     237.000000   \n",
      "\n",
      "               addr1          addr2  ...           V330           V331  \\\n",
      "count  590540.000000  590540.000000  ...  590540.000000  590540.000000   \n",
      "mean      258.385512      77.142822  ...       0.108196     100.647146   \n",
      "std       132.506081      27.412877  ...       1.785900    2335.112445   \n",
      "min         0.000000       0.000000  ...       0.000000       0.000000   \n",
      "25%       184.000000      87.000000  ...       0.000000       0.000000   \n",
      "50%       272.000000      87.000000  ...       0.000000       0.000000   \n",
      "75%       327.000000      87.000000  ...       0.000000       0.000000   \n",
      "max       540.000000     102.000000  ...      55.000000  160000.000000   \n",
      "\n",
      "                V332           V333           V334           V335  \\\n",
      "count  590540.000000  590540.000000  590540.000000  590540.000000   \n",
      "mean      191.853488     141.489485       1.367592       8.250516   \n",
      "std      4198.067187    2991.618042      91.128152     146.195704   \n",
      "min         0.000000       0.000000       0.000000       0.000000   \n",
      "25%         0.000000       0.000000       0.000000       0.000000   \n",
      "50%         0.000000       0.000000       0.000000       0.000000   \n",
      "75%         0.000000       0.000000       0.000000       0.000000   \n",
      "max    160000.000000  160000.000000   55125.000000   55125.000000   \n",
      "\n",
      "                V336           V337           V338           V339  \n",
      "count  590540.000000  590540.000000  590540.000000  590540.000000  \n",
      "mean        3.978644       7.718914      21.079388      14.042772  \n",
      "std       103.010107     250.367423     412.256263     306.317225  \n",
      "min         0.000000       0.000000       0.000000       0.000000  \n",
      "25%         0.000000       0.000000       0.000000       0.000000  \n",
      "50%         0.000000       0.000000       0.000000       0.000000  \n",
      "75%         0.000000       0.000000       0.000000       0.000000  \n",
      "max     55125.000000  104060.000000  104060.000000  104060.000000  \n",
      "\n",
      "[8 rows x 380 columns]\n"
     ]
    }
   ],
   "source": [
    "print(df.describe())"
   ]
  },
  {
   "cell_type": "code",
   "execution_count": 5,
   "metadata": {},
   "outputs": [],
   "source": [
    "# library and data\n",
    "import seaborn as sns\n",
    "import matplotlib.pyplot as plt\n"
   ]
  },
  {
   "cell_type": "code",
   "execution_count": null,
   "metadata": {},
   "outputs": [],
   "source": []
  },
  {
   "cell_type": "code",
   "execution_count": 20,
   "metadata": {},
   "outputs": [],
   "source": [
    "# Only use the 'Amount' and 'V1', ..., 'V28' features\n",
    "features = ['TransactionAmt'] + ['V%d' % number for number in range(1, 339)]\n",
    "\n",
    "# The target variable which we would like to predict, is the 'Class' variable\n",
    "target = 'isFraud'\n",
    "\n",
    "# Now create an X variable (containing the features) and an y variable (containing only the target variable)\n",
    "X = df[features]\n",
    "y = df[target]"
   ]
  },
  {
   "cell_type": "markdown",
   "metadata": {},
   "source": [
    "# Visualization of some of the features"
   ]
  },
  {
   "cell_type": "code",
   "execution_count": 10,
   "metadata": {},
   "outputs": [
    {
     "data": {
      "text/plain": [
       "<matplotlib.axes._subplots.AxesSubplot at 0x2bc099c8860>"
      ]
     },
     "execution_count": 10,
     "metadata": {},
     "output_type": "execute_result"
    },
    {
     "data": {
      "image/png": "[encoded data removed]",
      "text/plain": [
       "<Figure size 504x504 with 4 Axes>"
      ]
     },
     "metadata": {
      "needs_background": "light"
     },
     "output_type": "display_data"
    }
   ],
   "source": [
    "f, axes = plt.subplots(2, 2, figsize=(7, 7), sharex=True)\n",
    "sns.distplot( df[\"V1\"] , color=\"skyblue\", ax=axes[0, 0])\n",
    "sns.distplot( df[\"V2\"] , color=\"olive\", ax=axes[0, 1])\n",
    "sns.distplot( df[\"V3\"] , color=\"gold\", ax=axes[1, 0])\n",
    "sns.distplot( df[\"V4\"] , color=\"teal\", ax=axes[1, 1])\n"
   ]
  },
  {
   "cell_type": "code",
   "execution_count": 18,
   "metadata": {},
   "outputs": [],
   "source": [
    "def normalize(X):\n",
    "    \"\"\"\n",
    "    Make the distribution of the values of each variable similar by subtracting the mean and by dividing by the standard deviation.\n",
    "    \"\"\"\n",
    "    for feature in X.columns:\n",
    "        X[feature] -= X[feature].mean()\n",
    "        X[feature] /= X[feature].std()\n",
    "    return X\n"
   ]
  },
  {
   "cell_type": "code",
   "execution_count": 21,
   "metadata": {},
   "outputs": [
    {
     "name": "stderr",
     "output_type": "stream",
     "text": [
      "C:\\Users\\moyer\\Miniconda3\\lib\\site-packages\\ipykernel_launcher.py:6: SettingWithCopyWarning: \n",
      "A value is trying to be set on a copy of a slice from a DataFrame.\n",
      "Try using .loc[row_indexer,col_indexer] = value instead\n",
      "\n",
      "See the caveats in the documentation: http://pandas.pydata.org/pandas-docs/stable/indexing.html#indexing-view-versus-copy\n",
      "  \n",
      "C:\\Users\\moyer\\Miniconda3\\lib\\site-packages\\ipykernel_launcher.py:7: SettingWithCopyWarning: \n",
      "A value is trying to be set on a copy of a slice from a DataFrame.\n",
      "Try using .loc[row_indexer,col_indexer] = value instead\n",
      "\n",
      "See the caveats in the documentation: http://pandas.pydata.org/pandas-docs/stable/indexing.html#indexing-view-versus-copy\n",
      "  import sys\n",
      "C:\\Users\\moyer\\Miniconda3\\lib\\site-packages\\sklearn\\linear_model\\logistic.py:432: FutureWarning: Default solver will be changed to 'lbfgs' in 0.22. Specify a solver to silence this warning.\n",
      "  FutureWarning)\n"
     ]
    },
    {
     "name": "stdout",
     "output_type": "stream",
     "text": [
      "              precision    recall  f1-score   support\n",
      "\n",
      "           0       0.97      1.00      0.99    284939\n",
      "           1       0.78      0.23      0.35     10331\n",
      "\n",
      "    accuracy                           0.97    295270\n",
      "   macro avg       0.88      0.61      0.67    295270\n",
      "weighted avg       0.97      0.97      0.96    295270\n",
      "\n"
     ]
    }
   ],
   "source": [
    "# Define the model\n",
    "model = LogisticRegression()\n",
    "\n",
    "# Define the splitter for splitting the data in a train set and a test set\n",
    "splitter = StratifiedShuffleSplit(n_splits=1, test_size=0.5, random_state=0)\n",
    "\n",
    "# Loop through the splits (only one)\n",
    "for train_indices, test_indices in splitter.split(X, y):\n",
    "    # Select the train and test data\n",
    "    X_train, y_train = X.iloc[train_indices], y.iloc[train_indices]\n",
    "    X_test, y_test = X.iloc[test_indices], y.iloc[test_indices]\n",
    "    \n",
    "    # Normalize the data\n",
    "    X_train = normalize(X_train)\n",
    "    X_test = normalize(X_test)\n",
    "        \n",
    "    # Fit and predict!\n",
    "    model.fit(X_train, y_train)\n",
    "    y_pred = model.predict(X_test)\n",
    "    \n",
    "    # And finally: show the results\n",
    "    print(classification_report(y_test, y_pred))"
   ]
  },
  {
   "cell_type": "code",
   "execution_count": 22,
   "metadata": {},
   "outputs": [],
   "source": [
    "X_vis = df.iloc[:, 0].values.reshape(-1, 1)  # values converts it into a numpy array\n",
    "Y_vis = df.iloc[:, 1].values.reshape(-1, 1)  # -1 means that calculate the dimension of rows, but have 1 column\n",
    "\n",
    "Y_pred = model.predict(X)  # make predictions"
   ]
  },
  {
   "cell_type": "code",
   "execution_count": 35,
   "metadata": {},
   "outputs": [
    {
     "data": {
      "text/plain": [
       "<matplotlib.axes._subplots.AxesSubplot at 0x2bb9fca2e48>"
      ]
     },
     "execution_count": 35,
     "metadata": {},
     "output_type": "execute_result"
    },
    {
     "data": {
      "image/png": "[encoded data removed]",
      "text/plain": [
       "<Figure size 432x288 with 1 Axes>"
      ]
     },
     "metadata": {},
     "output_type": "display_data"
    }
   ],
   "source": [
    "import seaborn as sns; sns.set()\n",
    "import matplotlib.pyplot as plt\n",
    "sns.regplot(x=X_vis, y=Y_pred)"
   ]
  },
  {
   "cell_type": "code",
   "execution_count": 34,
   "metadata": {},
   "outputs": [
    {
     "data": {
      "text/plain": [
       "Text(0.5, 1.0, '2-class Precision-Recall curve: AP=0.97')"
      ]
     },
     "execution_count": 34,
     "metadata": {},
     "output_type": "execute_result"
    },
    {
     "data": {
      "image/png": "[encoded data removed]",
      "text/plain": [
       "<Figure size 432x288 with 1 Axes>"
      ]
     },
     "metadata": {},
     "output_type": "display_data"
    }
   ],
   "source": [
    "from sklearn.metrics import precision_recall_curve\n",
    "import matplotlib.pyplot as plt\n",
    "from inspect import signature\n",
    "average_precision = 0.97\n",
    "precision, recall, _ = precision_recall_curve(y, Y_pred)\n",
    "\n",
    "# In matplotlib < 1.5, plt.fill_between does not have a 'step' argument\n",
    "step_kwargs = ({'step': 'post'}\n",
    "               if 'step' in signature(plt.fill_between).parameters\n",
    "               else {})\n",
    "plt.step(recall, precision, color='b', alpha=0.2,\n",
    "         where='post')\n",
    "plt.fill_between(recall, precision, alpha=0.8, color='b', **step_kwargs)\n",
    "\n",
    "plt.xlabel('Recall')\n",
    "plt.ylabel('Precision')\n",
    "plt.ylim([0.0, 1.05])\n",
    "plt.xlim([0.0, 1.0])\n",
    "plt.title('2-class Precision-Recall curve: AP={0:0.2f}'.format(\n",
    "          average_precision))"
   ]
  },
  {
   "cell_type": "code",
   "execution_count": null,
   "metadata": {},
   "outputs": [],
   "source": []
  }
 ],
 "metadata": {
  "kernelspec": {
   "display_name": "Python 3",
   "language": "python",
   "name": "python3"
  },
  "language_info": {
   "codemirror_mode": {
    "name": "ipython",
    "version": 3
   },
   "file_extension": ".py",
   "mimetype": "text/x-python",
   "name": "python",
   "nbconvert_exporter": "python",
   "pygments_lexer": "ipython3",
   "version": "3.7.1"
  }
 },
 "nbformat": 4,
 "nbformat_minor": 2
}
